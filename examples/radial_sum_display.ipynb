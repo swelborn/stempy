{
 "cells": [
  {
   "cell_type": "markdown",
   "metadata": {},
   "source": [
    "# Radial sum and allow interactive display\n",
    "\n",
    "This shows how to process the sparse data to produce:\n",
    " - diffraction patterns\n",
    " - a STEM image\n",
    " - a radial sum with interactive display\n"
   ]
  },
  {
   "cell_type": "code",
   "execution_count": 1,
   "metadata": {},
   "outputs": [],
   "source": [
    "%matplotlib widget\n",
    "\n",
    "from pathlib import Path\n",
    "\n",
    "import matplotlib.pyplot as plt\n",
    "from matplotlib.colors import PowerNorm\n",
    "import numpy as np\n",
    "import ncempy\n",
    "import imageio\n",
    "\n",
    "import stempy.image as stim\n",
    "import stempy.io as stio\n",
    "from stempy.contrib import get_scan_path\n",
    "\n",
    "import ipywidgets as widgets\n",
    "from ipywidgets import interact, interactive\n",
    "\n",
    "distiller_path = Path('/global/cfs/projectdirs/ncemhub/distiller')"
   ]
  },
  {
   "cell_type": "code",
   "execution_count": 2,
   "metadata": {},
   "outputs": [],
   "source": [
    "# User input\n",
    "# Scan number\n",
    "# crop_dimensions 2-tuple\n",
    "# manual center? True False\n",
    "# if manual input() center\n",
    "# bf outer angle"
   ]
  },
  {
   "cell_type": "code",
   "execution_count": null,
   "metadata": {},
   "outputs": [],
   "source": [
    "# Load a sparse 4D camera data set\n",
    "plt.close('all')\n",
    "\n",
    "date = '2022.07.07'\n",
    "scan_id = 2163 # unique\n",
    "scan_num = None # not guaranteed to be unique\n",
    "threshold = None # optional\n",
    "\n",
    "fname, scan_num, scan_id = get_scan_path(distiller_path / Path('counted') / Path(date),\n",
    "                      scan_id=scan_id,scan_num=scan_num,th=threshold)\n",
    "\n",
    "# Load the HAADF\n",
    "haadf_path = distiller_path / Path('dm4') / Path(date) / Path(f'scan{scan_num}.dm4')\n",
    "if haadf_path.exists():\n",
    "    haadf = ncempy.read(haadf_path)\n",
    "    fg, ax = plt.subplots(1, 1)\n",
    "    ax.imshow(haadf['data'])\n",
    "    ax.set(title='Simultaneously acquire HAADF')\n",
    "else:\n",
    "    print('No HAADF available')\n",
    "\n",
    "sa = stio.load_electron_counts(fname, keep_flyback=False)\n",
    "\n",
    "# Calculate number of electrons per pattern\n",
    "num_elec = 0\n",
    "for frames in sa.data:\n",
    "    for frame in frames:\n",
    "        num_elec += len(frame)\n",
    "avg_elec = num_elec / (sa.num_scans * sa.num_frames_per_scan)\n",
    "\n",
    "print('File: {}'.format(fname))\n",
    "print('Initial scan dimensions = {}'.format(sa.scan_shape))\n",
    "print('Mean electrons per pattern: {}'.format(avg_elec))\n",
    "if haadf_path.exists():\n",
    "    print('Dose (on camera) = {} per {}^2'.format(avg_elec/haadf['pixelSize'][0]**2, haadf['pixelUnit'][0]))"
   ]
  },
  {
   "cell_type": "code",
   "execution_count": null,
   "metadata": {},
   "outputs": [],
   "source": [
    "# Crop to a smaller area (if desired)\n",
    "crop_dimensions = (256, 256) # (col, row)\n",
    "sa_crop = sa[:crop_dimensions[0], :crop_dimensions[1],:,:] # crop\n",
    "\n",
    "print('Original scan dimensions = {}'.format(sa.scan_shape))\n",
    "print('Cropped scan dimensions = {}'.format(sa_crop.scan_shape))"
   ]
  },
  {
   "cell_type": "code",
   "execution_count": null,
   "metadata": {},
   "outputs": [],
   "source": [
    "# Calculate a summed diffraction pattern\n",
    "# Skip every other scan position for speed\n",
    "dp = sa_crop[::2, ::2, :, :].sum(axis=(0, 1))\n",
    "\n",
    "# Set the center of the pattern\n",
    "center = stim.com_dense(dp) # center of intensity\n",
    "center = (294, 304) # manual\n",
    "print('Center of pattern at {0[0]}, {0[1]}'.format(center))\n",
    "\n",
    "fg,ax = plt.subplots(1,1)\n",
    "ax.imshow(dp, norm=PowerNorm(0.25))\n",
    "_ = ax.scatter(center[0], center[1], c='r')\n",
    "ax.set(xlabel='x',ylabel='y');"
   ]
  },
  {
   "cell_type": "code",
   "execution_count": null,
   "metadata": {},
   "outputs": [],
   "source": [
    "# Radial sum the sparse data\n",
    "bf_outer_angle = 10\n",
    "radial_sum = stim.radial_sum_sparse(sa_crop, center=center) # here center is (col, row)\n",
    "bf = radial_sum[:, :, 0:bf_outer_angle].sum(axis=2)\n",
    "\n",
    "fg,ax = plt.subplots(1, 2)\n",
    "ax[0].imshow(bf)\n",
    "ax[0].set(title='Bright field')\n",
    "ax[1].plot(radial_sum.sum(axis=((0,1))))\n",
    "ax[1].set(title='Radial sum of all positions', xlabel='scattering angle (pixel)')\n",
    "ax[1].set_yscale('log');"
   ]
  },
  {
   "cell_type": "code",
   "execution_count": null,
   "metadata": {},
   "outputs": [],
   "source": [
    "# Create interactive plot for BF and ADF images\n",
    "fg1, ax1 = plt.subplots(1,1,figsize=(4, 4))\n",
    "imax1 = ax1.imshow(radial_sum[:, :, 0:50].sum(axis=2), interpolation='none') # Set the initial image and intenstiy scaling \n",
    "\n",
    "def axUpdate(i):\n",
    "    '''updates the plot'''\n",
    "    s = np.sum(radial_sum[:,:,i[0]:i[1]],axis=2)\n",
    "    imax1.set_data(s)\n",
    "    #imax1.set_clim(s[10:-10,10:-10].min(),s.max())\n",
    "    imax1.set_clim(s[10:-10,10:-10].min(),s[10:-10,10:-10].max())\n",
    "\n",
    "w1 = widgets.IntRangeSlider(\n",
    "    value=[0, 50],\n",
    "    min=0,\n",
    "    max=288,\n",
    "    step=1,\n",
    "    description='VDF:',\n",
    "    disabled=False,\n",
    "    continuous_update=True,\n",
    "    orientation='horizontal',\n",
    "    readout=True,\n",
    "    readout_format='d',\n",
    ")\n",
    "\n",
    "interactive(axUpdate, i=w1)"
   ]
  }
 ],
 "metadata": {
  "kernelspec": {
   "display_name": "stempy",
   "language": "python",
   "name": "stempy"
  },
  "language_info": {
   "codemirror_mode": {
    "name": "ipython",
    "version": 3
   },
   "file_extension": ".py",
   "mimetype": "text/x-python",
   "name": "python",
   "nbconvert_exporter": "python",
   "pygments_lexer": "ipython3",
   "version": "3.8.10"
  },
  "widgets": {
   "application/vnd.jupyter.widget-state+json": {
    "state": {},
    "version_major": 2,
    "version_minor": 0
   }
  }
 },
 "nbformat": 4,
 "nbformat_minor": 4
}
