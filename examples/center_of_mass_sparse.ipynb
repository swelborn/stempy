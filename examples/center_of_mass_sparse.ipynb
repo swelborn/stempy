{
 "cells": [
  {
   "cell_type": "markdown",
   "metadata": {},
   "source": [
    "# Calculate phase from center of mass"
   ]
  },
  {
   "cell_type": "code",
   "execution_count": null,
   "metadata": {},
   "outputs": [],
   "source": [
    "%matplotlib widget\n",
    "\n",
    "from pathlib import Path\n",
    "\n",
    "import matplotlib.pyplot as plt\n",
    "from matplotlib.colors import LogNorm, PowerNorm\n",
    "import numpy as np\n",
    "import imageio\n",
    "\n",
    "import ncempy.io as nio\n",
    "\n",
    "import ipywidgets as widgets\n",
    "from ipywidgets import interact, interactive\n",
    "\n",
    "import stempy.io as stio\n",
    "import stempy.image as stim\n",
    "from stempy.contrib import get_scan_path"
   ]
  },
  {
   "cell_type": "code",
   "execution_count": null,
   "metadata": {},
   "outputs": [],
   "source": [
    "# Load a sparse 4D camera data set\n",
    "\n",
    "# Close all previous windows to avoid too many windows\n",
    "plt.close('all')\n",
    "\n",
    "date = '2022.06.29'\n",
    "scan_id = 1021 # optional\n",
    "scan_num = None\n",
    "threshold = None # optional\n",
    "\n",
    "# Find a scan on NERSC with the desired scan number\n",
    "fname, scan_num, scan_id = get_scan_path(distiller_path / Path('counted') / Path(date),\n",
    "                      scan_id=scan_id,scan_num=scan_num,th=threshold)\n",
    "\n",
    "# Load the HAADF\n",
    "haadf_path = distiller_path / Path('dm4') / Path(date) / Path(f'scan{scan_num}.dm4')\n",
    "if haadf_path.exists():\n",
    "    haadf = nio.dm.dmReader(haadf_path)\n",
    "    fg, ax = plt.subplots(1, 1)\n",
    "    ax.imshow(haadf['data'])\n",
    "    ax.set(title='Simultaneously acquire HAADF')\n",
    "else:\n",
    "    print('No HAADF available')\n",
    "\n",
    "sp = stio.load_electron_counts(fname, keep_flyback=False)\n",
    "\n",
    "# Calculate number of electrons per pattern\n",
    "num_elec = 0\n",
    "for frames in sp.data:\n",
    "    for frame in frames:\n",
    "        num_elec += len(frame)\n",
    "avg_elec = num_elec / (sp.num_scans * sp.num_frames_per_scan)\n",
    "\n",
    "print('File: {}'.format(fname))\n",
    "print('Scan dimensions = {}'.format(sp.scan_shape))\n",
    "print('Mean electrons per pattern: {}'.format(avg_elec))\n",
    "if haadf_path.exists():\n",
    "    print('Dose (on camera) = {} per {}^2'.format(avg_elec/haadf['pixelSize'][0]**2, haadf['pixelUnit'][0]))"
   ]
  },
  {
   "cell_type": "code",
   "execution_count": null,
   "metadata": {},
   "outputs": [],
   "source": [
    "# Calculate a summed diffraction pattern of frames\n",
    "# And find the center\n",
    "dp = sp[::2, ::2, :, :].sum(axis=(0,1))\n",
    "\n",
    "# Set the center of the pattern (use figure below for manual)\n",
    "_ = dp.copy()\n",
    "_[_ < 5] = 0\n",
    "center = stim.com_dense(_)\n",
    "# center = (270, 295) # set manually\n",
    "print(center)\n",
    "\n",
    "print('Showing power law normalized intensities')\n",
    "fg,ax = plt.subplots(1, 1)\n",
    "# ax.imshow(dp, norm=LogNorm())\n",
    "ax.imshow(dp, norm=PowerNorm(0.25))\n",
    "ax.scatter(center[0], center[1], c='r')\n",
    "ax.legend(['center of pattern']);"
   ]
  },
  {
   "cell_type": "code",
   "execution_count": null,
   "metadata": {},
   "outputs": [],
   "source": [
    "# Calculate a virtual bright field and dark field\n",
    "inner_angles = (0, 190) # in pixels\n",
    "outer_angles = (75, 288)\n",
    "\n",
    "ims = stim.create_stem_images(sp, inner_angles, outer_angles, center=center) # here center is (col, row)\n",
    "bf = ims[0,]\n",
    "adf = ims[1,]\n",
    "\n",
    "fg,ax = plt.subplots(1, 2, sharex=True, sharey=True)\n",
    "ax[0].imshow(bf,vmin=bf[10:-10,10:-10].min(),vmax=bf[10:-10,10:-10].max())\n",
    "ax[0].set(title='vBF')\n",
    "ax[1].imshow(adf,vmin=adf[10:-10,10:-10].min(),vmax=adf[10:-10,10:-10].max())\n",
    "ax[1].set(title='vADF');"
   ]
  },
  {
   "cell_type": "code",
   "execution_count": null,
   "metadata": {},
   "outputs": [],
   "source": [
    "# Calculate the center of mass (COM) of every frame\n",
    "crop_to = (185, 185) # non-square untested\n",
    "print('Crop to: {} pixels'.format(crop_to))\n",
    "\n",
    "com = stim.com_sparse(sp, crop_to=crop_to)\n",
    "\n",
    "# Find the stats for plotting\n",
    "com_mean = np.mean(com, axis=(1, 2))\n",
    "com_std = np.std(com,axis=(1, 2))\n",
    "\n",
    "fg,ax = plt.subplots(1,2,sharex=True,sharey=True)\n",
    "axim0 = ax[0].imshow(com[0,], cmap='bwr', vmin=com_mean[0]-com_std[0], vmax=com_mean[0]+com_std[0],interpolation='none')\n",
    "axim1 = ax[1].imshow(com[1,], cmap='bwr', vmin=com_mean[1]-com_std[1], vmax=com_mean[1]+com_std[1],interpolation='none')\n",
    "ax[0].set(title='scan {}'.format(scan_num))\n"
   ]
  },
  {
   "cell_type": "code",
   "execution_count": null,
   "metadata": {},
   "outputs": [],
   "source": [
    "# Calculate the radius and angle for each COM measurement\n",
    "com_r = np.sqrt( (com[0,] - com_mean[0])**2 + (com[1,] - com_mean[1])**2 )\n",
    "com_theta = np.arctan2((com[1,] - com_mean[1]), (com[0,] - com_mean[0]))\n",
    "\n",
    "fg,ax = plt.subplots(1, 2, sharex=True, sharey=True)\n",
    "ax[0].imshow(com_r / np.std(com_r), cmap='magma', vmax=3)\n",
    "ax[1].imshow(com_theta, cmap='twilight', interpolation='none')"
   ]
  },
  {
   "cell_type": "code",
   "execution_count": null,
   "metadata": {
    "tags": []
   },
   "outputs": [],
   "source": [
    "# Retrieve phase from center of mass\n",
    "# 200 and 300 kV are -9 if Gatan + TIA = 0. If TIA = -14 (for TS movement) then the theta should be -23\n",
    "# 80 kv is good near -45 degrees; rotation is probably +/- 9 degrees from 300 kV. \n",
    "# 80 kV STEM scan rot is usually -30. Not sure how to take that into account yet\n",
    "# For 90 degree DM scan rotatoin you need to -90 below\n",
    "flip = True\n",
    "theta = (-9 - 90) * np.pi / 180. # rotation between diffraction and real space scan directions\n",
    "reg = .006\n",
    "\n",
    "# Calculate the phase\n",
    "ph = stim.phase_from_com(com, flip=flip, theta=theta, reg=reg)\n",
    "\n",
    "fg,ax = plt.subplots(1, 3, sharex=True, sharey=True, figsize=(10,5))\n",
    "ax[0].imshow(ph,vmin=ph[10:-10,].min(),vmax=ph[10:-10,].max())\n",
    "ax[0].set(title='DPC scan{}'.format(scan_num))\n",
    "# ax[1].imshow(bf)\n",
    "ax[1].imshow(haadf['data'])\n",
    "# ax[1].set(title='vBF')\n",
    "ax[1].set(title='HAADF')\n",
    "ax[2].imshow(adf)\n",
    "ax[2].set(title = 'vADF')\n",
    "# fg.tight_layout()\n",
    "\n",
    "fg,ax = plt.subplots(1,3,sharex=True,sharey=True, figsize=(10,5))\n",
    "ax[0].imshow(np.abs(np.fft.fftshift(np.fft.fft2(ph))),norm=LogNorm(vmin=1))\n",
    "ax[1].imshow(np.abs(np.fft.fftshift(np.fft.fft2(bf))),norm=LogNorm())\n",
    "ax[2].imshow(np.abs(np.fft.fftshift(np.fft.fft2(adf))),norm=LogNorm())\n",
    "# fg.tight_layout()"
   ]
  },
  {
   "cell_type": "code",
   "execution_count": null,
   "metadata": {},
   "outputs": [],
   "source": [
    "# Save the data\n",
    "print('Saving COM and DPC for scan number {}'.format(scan_num))\n",
    "imageio.imwrite(fname.with_name('scan{}_DPC'.format(scan_num)).with_suffix('.tif'), ph.astype(np.float32))\n",
    "imageio.imwrite(fname.with_name('scan{}_comx'.format(scan_num)).with_suffix('.tif'), com[0,].astype(np.float32))\n",
    "imageio.imwrite(fname.with_name('scan{}_comy'.format(scan_num)).with_suffix('.tif'), com[1,].astype(np.float32))\n",
    "imageio.imwrite(fname.with_name('scan{}_BF'.format(scan_num)).with_suffix('.tif'), bf.astype(np.float32))\n",
    "imageio.imwrite(fname.with_name('scan{}_ADF'.format(scan_num)).with_suffix('.tif'), adf.astype(np.float32))\n",
    "print(fname.with_name('scan{}_DPC'.format(scan_num)).with_suffix('.tif'))"
   ]
  },
  {
   "cell_type": "code",
   "execution_count": null,
   "metadata": {
    "tags": []
   },
   "outputs": [],
   "source": [
    "# OPTIONAL: Interactive plot to find ideal regularization \n",
    "\n",
    "# Create interactive plot for DPC and DPC_fft plots\n",
    "fg1, ax1 = plt.subplots(1,2,figsize=(8, 5))\n",
    "im1ax1 = ax1[0].imshow(ph, interpolation='none') # Set the initial image and intenstiy scaling\n",
    "im2ax1 = ax1[1].imshow(np.abs(np.fft.fftshift(np.fft.fft2(ph))),norm=LogNorm(vmin=1),interpolation='none')\n",
    "\n",
    "def axUpdate(i):\n",
    "    '''updates the plot'''\n",
    "    _ = stim.phase_from_com(com, flip=flip, theta=theta, reg=i)[10:-10,10:-10]\n",
    "    im1ax1.set_data(_)\n",
    "    im1ax1.set_clim(_.min(), _.max())\n",
    "    __ = np.abs(np.fft.fftshift(np.fft.fft2(_)))\n",
    "    im2ax1.set_data(__)\n",
    "    \n",
    "w1 = widgets.FloatSlider(\n",
    "    value=reg,\n",
    "    min=1e-6,\n",
    "    max=1e-2,\n",
    "    step=1e-3,\n",
    "    description='reg:',\n",
    "    disabled=False,\n",
    "    continuous_update=True,\n",
    "    orientation='horizontal',\n",
    "    readout=True,\n",
    "    readout_format='f',\n",
    ")\n",
    "\n",
    "interactive(axUpdate, i=w1)"
   ]
  },
  {
   "cell_type": "code",
   "execution_count": null,
   "metadata": {},
   "outputs": [],
   "source": []
  }
 ],
 "metadata": {
  "kernelspec": {
   "display_name": "stempy",
   "language": "python",
   "name": "stempy"
  },
  "language_info": {
   "codemirror_mode": {
    "name": "ipython",
    "version": 3
   },
   "file_extension": ".py",
   "mimetype": "text/x-python",
   "name": "python",
   "nbconvert_exporter": "python",
   "pygments_lexer": "ipython3",
   "version": "3.8.10"
  },
  "widgets": {
   "application/vnd.jupyter.widget-state+json": {
    "state": {},
    "version_major": 2,
    "version_minor": 0
   }
  }
 },
 "nbformat": 4,
 "nbformat_minor": 4
}
