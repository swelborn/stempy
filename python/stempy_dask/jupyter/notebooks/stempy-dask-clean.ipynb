{
 "cells": [
  {
   "cell_type": "markdown",
   "id": "4d19a929-6bc9-42ba-925e-15068827ff59",
   "metadata": {},
   "source": [
    "# NB for Moving from Development Code to Production"
   ]
  },
  {
   "cell_type": "markdown",
   "id": "c97bbe75-4b5e-4aa0-89fa-acee5d60ba6a",
   "metadata": {},
   "source": [
    "## Class Breakdown"
   ]
  },
  {
   "cell_type": "markdown",
   "id": "6759f523-aef0-4352-a7e3-a88566eb75a6",
   "metadata": {},
   "source": [
    "### Dask handlers"
   ]
  },
  {
   "cell_type": "markdown",
   "id": "2046d215-f614-4a98-a44e-b6ee095cb7ee",
   "metadata": {},
   "source": [
    "- Start/keep track of dask scheduler \n",
    "- Start/keep track of workers\n",
    "- Use configuration "
   ]
  },
  {
   "cell_type": "markdown",
   "id": "cd1adb06-a2dd-4d28-9e9a-fa5ec0532f48",
   "metadata": {},
   "source": [
    "### Dask Configuration"
   ]
  },
  {
   "cell_type": "markdown",
   "id": "cf42be6e-f9e7-4722-84a8-0701ddc4af09",
   "metadata": {},
   "source": [
    "- Settings for various instrumentation: PM, CPU, GPU, etc."
   ]
  },
  {
   "cell_type": "code",
   "execution_count": 5,
   "id": "085cf5a7-8fda-4e30-930b-12b645aaf985",
   "metadata": {},
   "outputs": [
    {
     "name": "stdout",
     "output_type": "stream",
     "text": [
      "The autoreload extension is already loaded. To reload it, use:\n",
      "  %reload_ext autoreload\n"
     ]
    }
   ],
   "source": [
    "%load_ext autoreload\n",
    "%autoreload 2"
   ]
  },
  {
   "cell_type": "code",
   "execution_count": 2,
   "id": "b66fb449-8462-4357-8f81-3356fb6305ed",
   "metadata": {},
   "outputs": [],
   "source": [
    "import ipywidgets as widgets\n",
    "import logging\n",
    "from IPython.display import display, HTML\n",
    "\n",
    "class HTMLFormatter(logging.Formatter):\n",
    "    \"\"\"\n",
    "    Prettily formats logs. Could use rich, too.\n",
    "    From: https://stackoverflow.com/questions/68807282/rich-logging-output-in-jupyter-ipython-notebook\n",
    "    \"\"\"\n",
    "    level_colors = {\n",
    "        logging.DEBUG: 'lightblue',\n",
    "        logging.INFO: 'dodgerblue',\n",
    "        logging.WARNING: 'goldenrod',\n",
    "        logging.ERROR: 'crimson',\n",
    "        logging.CRITICAL: 'firebrick'\n",
    "    }\n",
    "    \n",
    "    def __init__(self):\n",
    "        super().__init__(\n",
    "            '<span style=\"font-weight: bold; color: green\">{asctime}</span> '\n",
    "            '[<span style=\"font-weight: bold; color: {levelcolor}\">{levelname}</span>] '\n",
    "            '{message}',\n",
    "            style='{'\n",
    "        )\n",
    "    \n",
    "    def format(self, record):\n",
    "        record.levelcolor = self.level_colors.get(record.levelno, 'black')\n",
    "        return HTML(super().format(record))\n",
    "\n",
    "class OutputWidgetHandler(logging.Handler):\n",
    "    \"\"\" Custom logging handler sending logs to an output widget \"\"\"\n",
    "\n",
    "    def __init__(self, *args, **kwargs):\n",
    "        super().__init__(*args, **kwargs)\n",
    "        layout = {\n",
    "            'width': '100%', \n",
    "        }\n",
    "        self.setFormatter(HTMLFormatter())\n",
    "        self.out = widgets.Output(layout=layout)\n",
    "\n",
    "    def emit(self, record):\n",
    "        \"\"\" Overload of logging.Handler method \"\"\"\n",
    "        formatted_record = self.format(record)\n",
    "        self.out.append_display_data(formatted_record)\n",
    "        \n",
    "    def show_logs(self):\n",
    "        \"\"\" Show the logs \"\"\"\n",
    "        display(self.out)\n",
    "    \n",
    "    def clear_logs(self):\n",
    "        \"\"\" Clear the current logs \"\"\"\n",
    "        self.out.clear_output()"
   ]
  },
  {
   "cell_type": "code",
   "execution_count": 3,
   "id": "9086640a-946f-4d69-8b37-059cdf45b10a",
   "metadata": {},
   "outputs": [],
   "source": [
    "def create_new_cell(contents):\n",
    "    \"\"\"\n",
    "    Create new notebook cell programatically.\n",
    "    https://stackoverflow.com/questions/54987129/how-to-programmatically-create-several-new-cells-in-a-jupyter-notebook\n",
    "    \"\"\"\n",
    "    from IPython.core.getipython import get_ipython\n",
    "    shell = get_ipython()\n",
    "\n",
    "    payload = dict(\n",
    "        source='set_next_input',\n",
    "        text=contents,\n",
    "        replace=False,\n",
    "    )\n",
    "    shell.payload_manager.write_payload(payload, single=False)"
   ]
  },
  {
   "cell_type": "code",
   "execution_count": 4,
   "id": "4eaa66a9-8a17-4178-9907-cc069ffc5eeb",
   "metadata": {},
   "outputs": [],
   "source": [
    "import dask\n",
    "from dask.distributed import Client\n",
    "import os\n",
    "import logging\n",
    "\n",
    "class SystemConfig:\n",
    "    \n",
    "    def __init__(self):\n",
    "        self.configure()\n",
    "        \n",
    "    def _determine_system(self):\n",
    "        try:\n",
    "            self.system = os.environ[\"NERSC_HOST\"]\n",
    "        except KeyError:\n",
    "            self.system = \"local\"\n",
    "    \n",
    "    def _determine_ipython(self):\n",
    "        \"\"\"\n",
    "        Checks if this is running within a jupyter notebook.\n",
    "        \"\"\"\n",
    "        shell = get_ipython().__class__.__name__\n",
    "        try:\n",
    "            if shell == \"ZMQInteractiveShell\":\n",
    "                self.shell = \"jupyter\"\n",
    "                self._in_jupyter = True\n",
    "            elif shell == \"TerminalInteractiveShell\":\n",
    "                self.shell = \"iPython\"\n",
    "                self._in_ipython = True\n",
    "            else:\n",
    "                self.shell = \"unknown\"\n",
    "        except NameError:\n",
    "            self.shell = \"standard_interpreter\"\n",
    "            self._in_standard = True\n",
    "            \n",
    "    def _create_logger(self, ):\n",
    "        self.log = logging.getLogger(\"system\")\n",
    "        if self._in_jupyter or self._in_ipython:\n",
    "            self.log_handler = OutputWidgetHandler()\n",
    "            self.log.addHandler(self.log_handler)\n",
    "            self.log.setLevel(logging.INFO)\n",
    "        else:\n",
    "            self.log.setLevel(logging.INFO)\n",
    "            \n",
    "    def configure(self):\n",
    "        self._determine_system()\n",
    "        self._determine_ipython()\n",
    "        self._create_logger()\n",
    "        self.log.info(f\"You are using {self.system}\")\n",
    "        self.log.info(f\"You are running python inside of {self.shell}\")    \n",
    "\n",
    "x = SystemConfig()\n",
    "# x.log_handler.show_logs()"
   ]
  },
  {
   "cell_type": "code",
   "execution_count": 5,
   "id": "33b6ea31-c1bd-40ad-b1c2-3d63173c3cd0",
   "metadata": {},
   "outputs": [
    {
     "data": {
      "application/vnd.jupyter.widget-view+json": {
       "model_id": "c70df831f1314fbf97342af36b116d66",
       "version_major": 2,
       "version_minor": 0
      },
      "text/plain": [
       "Output(layout=Layout(width='100%'), outputs=({'output_type': 'display_data', 'data': {'text/plain': '<IPython.…"
      ]
     },
     "metadata": {},
     "output_type": "display_data"
    }
   ],
   "source": [
    "\n",
    "configuration_defaults_yml = {\n",
    "\n",
    "}\n",
    "\n",
    "class DaskConfig:\n",
    "    \n",
    "    def __init__(self, sys_config: SystemConfig):\n",
    "        self.sys_config = sys_config\n",
    "        self.configure()\n",
    "        \n",
    "    def _create_logger(self):\n",
    "        self.log = logging.getLogger(\"system.dask\")\n",
    "        if self.sys_config._in_jupyter or self.sys_config._in_ipython:\n",
    "            self.log_handler = OutputWidgetHandler()\n",
    "            self.log.addHandler(self.log_handler)\n",
    "            self.log.setLevel(logging.INFO)\n",
    "        else:\n",
    "            self.log.setLevel(logging.INFO)\n",
    "            \n",
    "    def configure(self):\n",
    "        self._create_logger()\n",
    "        self.log.info(f\"Starting dask configuration\")\n",
    "\n",
    "y = DaskConfig(x)\n",
    "y.log_handler.show_logs()\n",
    "\n",
    "import shlex\n",
    "import logging\n",
    "import subprocess\n",
    "\n",
    "def log_subprocess_output(pipe, logger=y.log):\n",
    "    for line in iter(pipe.readline, b''): # b'\\n'-separated lines\n",
    "        logger.info(line)\n",
    "        \n",
    "from subprocess import Popen, PIPE, STDOUT\n",
    "\n",
    "process = Popen(\"/global/homes/s/swelborn/stempy-dask/start_dask.sh\", stdout=PIPE, stderr=STDOUT)\n",
    "with process.stdout:\n",
    "    log_subprocess_output(process.stdout)\n",
    "exitcode = process.wait() # 0 means success\n"
   ]
  },
  {
   "cell_type": "code",
   "execution_count": 19,
   "id": "a5c84829-a819-4686-b082-c4257fb4990c",
   "metadata": {},
   "outputs": [
    {
     "name": "stderr",
     "output_type": "stream",
     "text": [
      "INFO:root:Set system to cori\n"
     ]
    },
    {
     "data": {
      "text/html": [
       "<span style=\"font-weight: bold; color: green\">2023-02-01 16:52:04,280</span> [<span style=\"font-weight: bold; color: dodgerblue\">INFO</span>] Set system to cori"
      ],
      "text/plain": [
       "<IPython.core.display.HTML object>"
      ]
     },
     "metadata": {},
     "output_type": "display_data"
    },
    {
     "data": {
      "text/html": [
       "<span style=\"font-weight: bold; color: green\">2023-02-01 16:52:04,280</span> [<span style=\"font-weight: bold; color: dodgerblue\">INFO</span>] Set system to cori"
      ],
      "text/plain": [
       "<IPython.core.display.HTML object>"
      ]
     },
     "metadata": {},
     "output_type": "display_data"
    },
    {
     "data": {
      "text/html": [
       "<span style=\"font-weight: bold; color: green\">2023-02-01 16:52:04,280</span> [<span style=\"font-weight: bold; color: dodgerblue\">INFO</span>] Set system to cori"
      ],
      "text/plain": [
       "<IPython.core.display.HTML object>"
      ]
     },
     "metadata": {},
     "output_type": "display_data"
    }
   ],
   "source": [
    "a = DaskConfig()\n"
   ]
  },
  {
   "cell_type": "markdown",
   "id": "d4df2972-45e9-4c95-9164-cae948fd0172",
   "metadata": {},
   "source": [
    "### Data operations"
   ]
  },
  {
   "cell_type": "markdown",
   "id": "113d78c9-9100-4a60-93a3-70ca7463b501",
   "metadata": {},
   "source": [
    "- Loading/counting data\n",
    "- Tracking scan location\n",
    "- Saving data\n",
    "- Creating stempy reader"
   ]
  }
 ],
 "metadata": {
  "kernelspec": {
   "display_name": "stempy-cuda",
   "language": "python",
   "name": "stempy-cuda-dask"
  },
  "language_info": {
   "codemirror_mode": {
    "name": "ipython",
    "version": 3
   },
   "file_extension": ".py",
   "mimetype": "text/x-python",
   "name": "python",
   "nbconvert_exporter": "python",
   "pygments_lexer": "ipython3",
   "version": "3.9.15"
  }
 },
 "nbformat": 4,
 "nbformat_minor": 5
}
